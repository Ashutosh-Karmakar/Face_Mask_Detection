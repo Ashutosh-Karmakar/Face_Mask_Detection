{
 "cells": [
  {
   "cell_type": "code",
   "execution_count": 6,
   "metadata": {},
   "outputs": [],
   "source": [
    "import os"
   ]
  },
  {
   "cell_type": "code",
   "execution_count": 7,
   "metadata": {},
   "outputs": [],
   "source": [
    "Data_Dir = os.listdir(\"Images\")"
   ]
  },
  {
   "cell_type": "code",
   "execution_count": 8,
   "metadata": {},
   "outputs": [
    {
     "data": {
      "text/plain": [
       "['without_mask', 'with_mask']"
      ]
     },
     "execution_count": 8,
     "metadata": {},
     "output_type": "execute_result"
    }
   ],
   "source": [
    "Data_Dir"
   ]
  },
  {
   "cell_type": "code",
   "execution_count": 9,
   "metadata": {},
   "outputs": [],
   "source": [
    "import cv2\n",
    "import numpy as np\n",
    "from tensorflow.keras.utils import to_categorical\n",
    "from sklearn.preprocessing import LabelBinarizer\n",
    "from sklearn.model_selection import train_test_split"
   ]
  },
  {
   "cell_type": "code",
   "execution_count": 10,
   "metadata": {},
   "outputs": [],
   "source": [
    "img_rows, img_cols =112,112"
   ]
  },
  {
   "cell_type": "code",
   "execution_count": 11,
   "metadata": {},
   "outputs": [],
   "source": [
    "images = []\n",
    "labels = []"
   ]
  },
  {
   "cell_type": "code",
   "execution_count": 12,
   "metadata": {},
   "outputs": [
    {
     "name": "stdout",
     "output_type": "stream",
     "text": [
      "without_mask\n",
      "with_mask\n"
     ]
    }
   ],
   "source": [
    "for category in Data_Dir:\n",
    "    print(category)\n",
    "    folder_path = os.path.join(\"Images\",category)\n",
    "    for img in os.listdir(folder_path):\n",
    "        img_path = os.path.join(folder_path,img)\n",
    "        img = cv2.imread(img_path)\n",
    "        \n",
    "        try:\n",
    "            grayscale_img = cv2.cvtColor(img,cv2.COLOR_BGR2GRAY)\n",
    "            \n",
    "            resized_img = cv2.resize(grayscale_img,(img_rows,img_cols))\n",
    "            images.append(resized_img)\n",
    "            labels.append(category)\n",
    "        except Exception as e:\n",
    "            print('Exception:',e)\n",
    "            \n",
    "images = np.array(images)/255.0\n",
    "images = np.reshape(images,(images.shape[0],img_rows,img_cols,1))"
   ]
  },
  {
   "cell_type": "code",
   "execution_count": 13,
   "metadata": {},
   "outputs": [
    {
     "data": {
      "text/plain": [
       "'with_mask'"
      ]
     },
     "execution_count": 13,
     "metadata": {},
     "output_type": "execute_result"
    }
   ],
   "source": [
    "labels[-1]"
   ]
  },
  {
   "cell_type": "code",
   "execution_count": 14,
   "metadata": {},
   "outputs": [],
   "source": [
    "lb = LabelBinarizer()\n",
    "labels = lb.fit_transform(labels)\n",
    "labels = to_categorical(labels)\n",
    "labels = np.array(labels)"
   ]
  },
  {
   "cell_type": "code",
   "execution_count": 15,
   "metadata": {},
   "outputs": [
    {
     "data": {
      "text/plain": [
       "array([[0., 1.],\n",
       "       [0., 1.],\n",
       "       [0., 1.],\n",
       "       ...,\n",
       "       [1., 0.],\n",
       "       [1., 0.],\n",
       "       [1., 0.]], dtype=float32)"
      ]
     },
     "execution_count": 15,
     "metadata": {},
     "output_type": "execute_result"
    }
   ],
   "source": [
    "labels"
   ]
  },
  {
   "cell_type": "code",
   "execution_count": 16,
   "metadata": {},
   "outputs": [],
   "source": [
    "(train_x,test_x,train_y,test_y) = train_test_split(images,labels,test_size=0.25,\n",
    "                                                  random_state=0)"
   ]
  },
  {
   "cell_type": "code",
   "execution_count": null,
   "metadata": {},
   "outputs": [],
   "source": []
  },
  {
   "cell_type": "code",
   "execution_count": null,
   "metadata": {},
   "outputs": [],
   "source": []
  },
  {
   "cell_type": "code",
   "execution_count": null,
   "metadata": {},
   "outputs": [],
   "source": []
  },
  {
   "cell_type": "markdown",
   "metadata": {},
   "source": [
    "# MODEL CREATION"
   ]
  },
  {
   "cell_type": "code",
   "execution_count": 17,
   "metadata": {},
   "outputs": [
    {
     "name": "stdout",
     "output_type": "stream",
     "text": [
      "Model: \"sequential\"\n",
      "_________________________________________________________________\n",
      "Layer (type)                 Output Shape              Param #   \n",
      "=================================================================\n",
      "conv2d (Conv2D)              (None, 110, 110, 64)      640       \n",
      "_________________________________________________________________\n",
      "activation (Activation)      (None, 110, 110, 64)      0         \n",
      "_________________________________________________________________\n",
      "max_pooling2d (MaxPooling2D) (None, 55, 55, 64)        0         \n",
      "_________________________________________________________________\n",
      "conv2d_1 (Conv2D)            (None, 53, 53, 128)       73856     \n",
      "_________________________________________________________________\n",
      "activation_1 (Activation)    (None, 53, 53, 128)       0         \n",
      "_________________________________________________________________\n",
      "max_pooling2d_1 (MaxPooling2 (None, 26, 26, 128)       0         \n",
      "_________________________________________________________________\n",
      "flatten (Flatten)            (None, 86528)             0         \n",
      "_________________________________________________________________\n",
      "dropout (Dropout)            (None, 86528)             0         \n",
      "_________________________________________________________________\n",
      "dense (Dense)                (None, 64)                5537856   \n",
      "_________________________________________________________________\n",
      "dense_1 (Dense)              (None, 2)                 130       \n",
      "=================================================================\n",
      "Total params: 5,612,482\n",
      "Trainable params: 5,612,482\n",
      "Non-trainable params: 0\n",
      "_________________________________________________________________\n",
      "None\n"
     ]
    }
   ],
   "source": [
    "from tensorflow.keras.models import Sequential\n",
    "from tensorflow.keras.layers import Dense,Activation,Flatten,Dropout\n",
    "from tensorflow.keras.layers import Conv2D,MaxPooling2D\n",
    "\n",
    "num_classes = 2\n",
    "batch_size = 32\n",
    "\n",
    "model = Sequential()\n",
    "\n",
    "model.add(Conv2D(64,(3,3),input_shape=(img_rows,img_cols,1)))\n",
    "model.add(Activation('relu'))\n",
    "model.add(MaxPooling2D(pool_size=(2,2)))\n",
    "\n",
    "model.add(Conv2D(128,(3,3)))\n",
    "model.add(Activation('relu'))\n",
    "model.add(MaxPooling2D(pool_size=(2,2)))\n",
    "\n",
    "model.add(Flatten())\n",
    "model.add(Dropout(0.5))\n",
    "\n",
    "model.add(Dense(64,activation='relu'))\n",
    "model.add(Dense(num_classes,activation='softmax'))\n",
    "\n",
    "print(model.summary())"
   ]
  },
  {
   "cell_type": "code",
   "execution_count": 78,
   "metadata": {
    "scrolled": true
   },
   "outputs": [
    {
     "ename": "ModuleNotFoundError",
     "evalue": "No module named 'tensorflow.keras.utils.vis_utils'",
     "output_type": "error",
     "traceback": [
      "\u001b[1;31m---------------------------------------------------------------------------\u001b[0m",
      "\u001b[1;31mModuleNotFoundError\u001b[0m                       Traceback (most recent call last)",
      "\u001b[1;32m<ipython-input-78-00174ff2b566>\u001b[0m in \u001b[0;36m<module>\u001b[1;34m\u001b[0m\n\u001b[1;32m----> 1\u001b[1;33m \u001b[1;32mfrom\u001b[0m \u001b[0mtensorflow\u001b[0m\u001b[1;33m.\u001b[0m\u001b[0mkeras\u001b[0m\u001b[1;33m.\u001b[0m\u001b[0mutils\u001b[0m\u001b[1;33m.\u001b[0m\u001b[0mvis_utils\u001b[0m \u001b[1;32mimport\u001b[0m \u001b[0mplot_model\u001b[0m\u001b[1;33m\u001b[0m\u001b[1;33m\u001b[0m\u001b[0m\n\u001b[0m\u001b[0;32m      2\u001b[0m \u001b[0mplot_model\u001b[0m\u001b[1;33m(\u001b[0m\u001b[0mmodel\u001b[0m\u001b[1;33m,\u001b[0m \u001b[0mto_file\u001b[0m\u001b[1;33m=\u001b[0m\u001b[1;34m'face_mask_detection_architecture.png'\u001b[0m\u001b[1;33m)\u001b[0m\u001b[1;33m\u001b[0m\u001b[1;33m\u001b[0m\u001b[0m\n",
      "\u001b[1;31mModuleNotFoundError\u001b[0m: No module named 'tensorflow.keras.utils.vis_utils'"
     ]
    }
   ],
   "source": [
    "from tensorflow.keras.utils.vis_utils import plot_model\n",
    "plot_model(model, to_file='face_mask_detection_architecture.png')"
   ]
  },
  {
   "cell_type": "code",
   "execution_count": 18,
   "metadata": {},
   "outputs": [
    {
     "name": "stdout",
     "output_type": "stream",
     "text": [
      "Train on 1610 samples, validate on 537 samples\n",
      "Epoch 1/60\n",
      "1610/1610 [==============================] - 44s 28ms/sample - loss: 0.6168 - acc: 0.6354 - val_loss: 0.5260 - val_acc: 0.7058\n",
      "Epoch 2/60\n",
      "1610/1610 [==============================] - 44s 28ms/sample - loss: 0.4889 - acc: 0.7435 - val_loss: 0.4845 - val_acc: 0.7356\n",
      "Epoch 3/60\n",
      "1610/1610 [==============================] - 45s 28ms/sample - loss: 0.3970 - acc: 0.8273 - val_loss: 0.3957 - val_acc: 0.8082\n",
      "Epoch 4/60\n",
      "1610/1610 [==============================] - 45s 28ms/sample - loss: 0.3254 - acc: 0.8677 - val_loss: 0.3329 - val_acc: 0.8547\n",
      "Epoch 5/60\n",
      "1610/1610 [==============================] - 45s 28ms/sample - loss: 0.2779 - acc: 0.8882 - val_loss: 0.2946 - val_acc: 0.8883\n",
      "Epoch 6/60\n",
      "1610/1610 [==============================] - 45s 28ms/sample - loss: 0.2379 - acc: 0.9143 - val_loss: 0.2694 - val_acc: 0.9032\n",
      "Epoch 7/60\n",
      "1610/1610 [==============================] - 45s 28ms/sample - loss: 0.2057 - acc: 0.9267 - val_loss: 0.2593 - val_acc: 0.9106\n",
      "Epoch 8/60\n",
      "1610/1610 [==============================] - 45s 28ms/sample - loss: 0.2040 - acc: 0.9186 - val_loss: 0.2649 - val_acc: 0.8957\n",
      "Epoch 9/60\n",
      "1610/1610 [==============================] - 35s 22ms/sample - loss: 0.1825 - acc: 0.9391 - val_loss: 0.2562 - val_acc: 0.8994\n",
      "Epoch 10/60\n",
      "1610/1610 [==============================] - 31s 19ms/sample - loss: 0.1502 - acc: 0.9522 - val_loss: 0.2690 - val_acc: 0.8771\n",
      "Epoch 11/60\n",
      "1610/1610 [==============================] - 31s 20ms/sample - loss: 0.1425 - acc: 0.9559 - val_loss: 0.2226 - val_acc: 0.9162\n",
      "Epoch 12/60\n",
      "1610/1610 [==============================] - 32s 20ms/sample - loss: 0.1176 - acc: 0.9683 - val_loss: 0.2505 - val_acc: 0.9013\n",
      "Epoch 13/60\n",
      "1610/1610 [==============================] - 32s 20ms/sample - loss: 0.1079 - acc: 0.9696 - val_loss: 0.2165 - val_acc: 0.9143\n",
      "Epoch 14/60\n",
      "1610/1610 [==============================] - 32s 20ms/sample - loss: 0.0957 - acc: 0.9776 - val_loss: 0.2168 - val_acc: 0.9162\n",
      "Epoch 15/60\n",
      "1610/1610 [==============================] - 32s 20ms/sample - loss: 0.0909 - acc: 0.9764 - val_loss: 0.2194 - val_acc: 0.9162\n",
      "Epoch 16/60\n",
      "1610/1610 [==============================] - 32s 20ms/sample - loss: 0.0902 - acc: 0.9758 - val_loss: 0.2120 - val_acc: 0.9162\n",
      "Epoch 17/60\n",
      "1610/1610 [==============================] - 32s 20ms/sample - loss: 0.0802 - acc: 0.9776 - val_loss: 0.3518 - val_acc: 0.8641\n",
      "Epoch 18/60\n",
      "1610/1610 [==============================] - 32s 20ms/sample - loss: 0.0814 - acc: 0.9789 - val_loss: 0.2258 - val_acc: 0.9199\n",
      "Epoch 19/60\n",
      "1610/1610 [==============================] - 32s 20ms/sample - loss: 0.0632 - acc: 0.9863 - val_loss: 0.2396 - val_acc: 0.9050\n",
      "Epoch 20/60\n",
      "1610/1610 [==============================] - 32s 20ms/sample - loss: 0.0543 - acc: 0.9882 - val_loss: 0.2447 - val_acc: 0.9050\n",
      "Epoch 21/60\n",
      "1610/1610 [==============================] - 32s 20ms/sample - loss: 0.0529 - acc: 0.9870 - val_loss: 0.2226 - val_acc: 0.9181\n",
      "Epoch 22/60\n",
      "1610/1610 [==============================] - 32s 20ms/sample - loss: 0.0408 - acc: 0.9925 - val_loss: 0.2469 - val_acc: 0.9125\n",
      "Epoch 23/60\n",
      "1610/1610 [==============================] - 32s 20ms/sample - loss: 0.0427 - acc: 0.9913 - val_loss: 0.2276 - val_acc: 0.9199\n",
      "Epoch 24/60\n",
      "1610/1610 [==============================] - 32s 20ms/sample - loss: 0.0347 - acc: 0.9950 - val_loss: 0.2303 - val_acc: 0.9181\n",
      "Epoch 25/60\n",
      "1610/1610 [==============================] - 32s 20ms/sample - loss: 0.0398 - acc: 0.9907 - val_loss: 0.2592 - val_acc: 0.9218\n",
      "Epoch 26/60\n",
      "1610/1610 [==============================] - 33s 20ms/sample - loss: 0.0357 - acc: 0.9919 - val_loss: 0.2641 - val_acc: 0.9013\n",
      "Epoch 27/60\n",
      "1610/1610 [==============================] - 32s 20ms/sample - loss: 0.0315 - acc: 0.9938 - val_loss: 0.2330 - val_acc: 0.9143\n",
      "Epoch 28/60\n",
      "1610/1610 [==============================] - 32s 20ms/sample - loss: 0.0263 - acc: 0.9957 - val_loss: 0.2364 - val_acc: 0.9218\n",
      "Epoch 29/60\n",
      "1610/1610 [==============================] - 32s 20ms/sample - loss: 0.0285 - acc: 0.9963 - val_loss: 0.3110 - val_acc: 0.8976\n",
      "Epoch 30/60\n",
      "1610/1610 [==============================] - 32s 20ms/sample - loss: 0.0247 - acc: 0.9963 - val_loss: 0.2452 - val_acc: 0.9125\n",
      "Epoch 31/60\n",
      "1610/1610 [==============================] - 32s 20ms/sample - loss: 0.0257 - acc: 0.9975 - val_loss: 0.2522 - val_acc: 0.9162\n",
      "Epoch 32/60\n",
      "1610/1610 [==============================] - 32s 20ms/sample - loss: 0.0182 - acc: 0.9969 - val_loss: 0.2615 - val_acc: 0.9088\n",
      "Epoch 33/60\n",
      "1610/1610 [==============================] - 32s 20ms/sample - loss: 0.0155 - acc: 0.9988 - val_loss: 0.2553 - val_acc: 0.9236\n",
      "Epoch 34/60\n",
      "1610/1610 [==============================] - 32s 20ms/sample - loss: 0.0217 - acc: 0.9963 - val_loss: 0.2715 - val_acc: 0.9013\n",
      "Epoch 35/60\n",
      "1610/1610 [==============================] - 33s 20ms/sample - loss: 0.0156 - acc: 0.9969 - val_loss: 0.2870 - val_acc: 0.9013\n",
      "Epoch 36/60\n",
      "1610/1610 [==============================] - 32s 20ms/sample - loss: 0.0179 - acc: 0.9994 - val_loss: 0.2689 - val_acc: 0.9199\n",
      "Epoch 37/60\n",
      "1610/1610 [==============================] - 32s 20ms/sample - loss: 0.0208 - acc: 0.9957 - val_loss: 0.2876 - val_acc: 0.9106\n",
      "Epoch 38/60\n",
      "1610/1610 [==============================] - 32s 20ms/sample - loss: 0.0128 - acc: 0.9994 - val_loss: 0.2970 - val_acc: 0.9013\n",
      "Epoch 39/60\n",
      "1610/1610 [==============================] - 32s 20ms/sample - loss: 0.0108 - acc: 0.9994 - val_loss: 0.2917 - val_acc: 0.9106\n",
      "Epoch 40/60\n",
      "1610/1610 [==============================] - 32s 20ms/sample - loss: 0.0124 - acc: 0.9994 - val_loss: 0.3244 - val_acc: 0.8957\n",
      "Epoch 41/60\n",
      "1610/1610 [==============================] - 32s 20ms/sample - loss: 0.0175 - acc: 0.9957 - val_loss: 0.3102 - val_acc: 0.9032\n",
      "Epoch 42/60\n",
      "1610/1610 [==============================] - 32s 20ms/sample - loss: 0.0176 - acc: 0.9969 - val_loss: 0.2954 - val_acc: 0.9181\n",
      "Epoch 43/60\n",
      "1610/1610 [==============================] - 32s 20ms/sample - loss: 0.0098 - acc: 0.9994 - val_loss: 0.2930 - val_acc: 0.9274\n",
      "Epoch 44/60\n",
      "1610/1610 [==============================] - 32s 20ms/sample - loss: 0.0107 - acc: 1.0000 - val_loss: 0.3118 - val_acc: 0.9125\n",
      "Epoch 45/60\n",
      "1610/1610 [==============================] - 33s 20ms/sample - loss: 0.0082 - acc: 1.0000 - val_loss: 0.3010 - val_acc: 0.9088\n",
      "Epoch 46/60\n",
      "1610/1610 [==============================] - 34s 21ms/sample - loss: 0.0064 - acc: 1.0000 - val_loss: 0.3196 - val_acc: 0.9013\n",
      "Epoch 47/60\n",
      "1610/1610 [==============================] - 32s 20ms/sample - loss: 0.0067 - acc: 1.0000 - val_loss: 0.3287 - val_acc: 0.9032\n",
      "Epoch 48/60\n",
      "1610/1610 [==============================] - 32s 20ms/sample - loss: 0.0077 - acc: 0.9994 - val_loss: 0.3420 - val_acc: 0.8994\n",
      "Epoch 49/60\n",
      "1610/1610 [==============================] - 32s 20ms/sample - loss: 0.0071 - acc: 0.9994 - val_loss: 0.3426 - val_acc: 0.8939\n",
      "Epoch 50/60\n",
      "1610/1610 [==============================] - 33s 21ms/sample - loss: 0.0148 - acc: 0.9963 - val_loss: 0.3223 - val_acc: 0.9236\n",
      "Epoch 51/60\n",
      "1610/1610 [==============================] - 33s 20ms/sample - loss: 0.0106 - acc: 0.9975 - val_loss: 0.3195 - val_acc: 0.9218\n",
      "Epoch 52/60\n",
      "1610/1610 [==============================] - 33s 20ms/sample - loss: 0.0091 - acc: 0.9981 - val_loss: 0.3198 - val_acc: 0.9274\n",
      "Epoch 53/60\n",
      "1610/1610 [==============================] - 33s 21ms/sample - loss: 0.0041 - acc: 1.0000 - val_loss: 0.3297 - val_acc: 0.9088\n",
      "Epoch 54/60\n",
      "1610/1610 [==============================] - 33s 20ms/sample - loss: 0.0059 - acc: 1.0000 - val_loss: 0.3457 - val_acc: 0.8976\n",
      "Epoch 55/60\n",
      "1610/1610 [==============================] - 32s 20ms/sample - loss: 0.0045 - acc: 0.9994 - val_loss: 0.3413 - val_acc: 0.9143\n",
      "Epoch 56/60\n",
      "1610/1610 [==============================] - 32s 20ms/sample - loss: 0.0039 - acc: 1.0000 - val_loss: 0.3400 - val_acc: 0.9143\n",
      "Epoch 57/60\n",
      "1610/1610 [==============================] - 32s 20ms/sample - loss: 0.0054 - acc: 1.0000 - val_loss: 0.3455 - val_acc: 0.9106\n",
      "Epoch 58/60\n",
      "1610/1610 [==============================] - 33s 20ms/sample - loss: 0.0052 - acc: 0.9988 - val_loss: 0.3468 - val_acc: 0.9032\n",
      "Epoch 59/60\n",
      "1610/1610 [==============================] - 32s 20ms/sample - loss: 0.0030 - acc: 1.0000 - val_loss: 0.3427 - val_acc: 0.9162\n",
      "Epoch 60/60\n",
      "1610/1610 [==============================] - 32s 20ms/sample - loss: 0.0032 - acc: 1.0000 - val_loss: 0.3443 - val_acc: 0.9218\n"
     ]
    }
   ],
   "source": [
    "from tensorflow.keras.optimizers import Adam\n",
    "epochs = 60\n",
    "model.compile(loss = 'categorical_crossentropy',\n",
    "             optimizer = Adam(lr=0.0001),\n",
    "             metrics = ['accuracy'])\n",
    "fitted_model = model.fit(\n",
    "    train_x,\n",
    "    train_y,\n",
    "    epochs=epochs,\n",
    "    validation_split=0.25)"
   ]
  },
  {
   "cell_type": "code",
   "execution_count": 19,
   "metadata": {},
   "outputs": [],
   "source": [
    "model.save('face_mask_detection6.h5')"
   ]
  },
  {
   "cell_type": "code",
   "execution_count": 109,
   "metadata": {},
   "outputs": [
    {
     "ename": "NameError",
     "evalue": "name 'history' is not defined",
     "output_type": "error",
     "traceback": [
      "\u001b[1;31m---------------------------------------------------------------------------\u001b[0m",
      "\u001b[1;31mNameError\u001b[0m                                 Traceback (most recent call last)",
      "\u001b[1;32m<ipython-input-109-5d92076fe24c>\u001b[0m in \u001b[0;36m<module>\u001b[1;34m\u001b[0m\n\u001b[0;32m      1\u001b[0m \u001b[1;32mfrom\u001b[0m \u001b[0mmatplotlib\u001b[0m \u001b[1;32mimport\u001b[0m \u001b[0mpyplot\u001b[0m \u001b[1;32mas\u001b[0m \u001b[0mplt\u001b[0m\u001b[1;33m\u001b[0m\u001b[1;33m\u001b[0m\u001b[0m\n\u001b[0;32m      2\u001b[0m \u001b[1;33m\u001b[0m\u001b[0m\n\u001b[1;32m----> 3\u001b[1;33m \u001b[0mplt\u001b[0m\u001b[1;33m.\u001b[0m\u001b[0mplot\u001b[0m\u001b[1;33m(\u001b[0m\u001b[0mhistory\u001b[0m\u001b[1;33m.\u001b[0m\u001b[0mhistory\u001b[0m\u001b[1;33m[\u001b[0m\u001b[1;34m'loss'\u001b[0m\u001b[1;33m]\u001b[0m\u001b[1;33m,\u001b[0m\u001b[1;34m'r'\u001b[0m\u001b[1;33m,\u001b[0m\u001b[0mlabel\u001b[0m\u001b[1;33m=\u001b[0m\u001b[1;34m'training loss'\u001b[0m\u001b[1;33m)\u001b[0m\u001b[1;33m\u001b[0m\u001b[1;33m\u001b[0m\u001b[0m\n\u001b[0m\u001b[0;32m      4\u001b[0m \u001b[0mplt\u001b[0m\u001b[1;33m.\u001b[0m\u001b[0mplot\u001b[0m\u001b[1;33m(\u001b[0m\u001b[0mhistory\u001b[0m\u001b[1;33m.\u001b[0m\u001b[0mhistory\u001b[0m\u001b[1;33m[\u001b[0m\u001b[1;34m'val_loss'\u001b[0m\u001b[1;33m]\u001b[0m\u001b[1;33m,\u001b[0m\u001b[0mlabel\u001b[0m\u001b[1;33m=\u001b[0m\u001b[1;34m'validation loss'\u001b[0m\u001b[1;33m)\u001b[0m\u001b[1;33m\u001b[0m\u001b[1;33m\u001b[0m\u001b[0m\n\u001b[0;32m      5\u001b[0m \u001b[0mplt\u001b[0m\u001b[1;33m.\u001b[0m\u001b[0mxlabel\u001b[0m\u001b[1;33m(\u001b[0m\u001b[1;34m'# epochs'\u001b[0m\u001b[1;33m)\u001b[0m\u001b[1;33m\u001b[0m\u001b[1;33m\u001b[0m\u001b[0m\n",
      "\u001b[1;31mNameError\u001b[0m: name 'history' is not defined"
     ]
    }
   ],
   "source": []
  },
  {
   "cell_type": "markdown",
   "metadata": {},
   "source": [
    "# Real time Detection"
   ]
  },
  {
   "cell_type": "code",
   "execution_count": 24,
   "metadata": {},
   "outputs": [],
   "source": [
    "\n",
    "\n",
    "from tensorflow.keras.models import load_model\n",
    "import cv2\n",
    "import numpy as np\n",
    "import smtplib"
   ]
  },
  {
   "cell_type": "code",
   "execution_count": 25,
   "metadata": {
    "scrolled": false
   },
   "outputs": [
    {
     "name": "stdout",
     "output_type": "stream",
     "text": [
      "[[0.3940329 0.6059671]]\n",
      "[[0.23940583 0.7605941 ]]\n",
      "[[0.5598082  0.44019178]]\n",
      "[[0.13186601 0.868134  ]]\n",
      "[[0.13186601 0.868134  ]]\n",
      "[[0.02440166 0.97559834]]\n",
      "[[0.01133609 0.988664  ]]\n",
      "[[0.01133609 0.988664  ]]\n",
      "[[0.02967294 0.970327  ]]\n",
      "[[0.11331447 0.8866855 ]]\n",
      "[[0.11331447 0.8866855 ]]\n",
      "[[0.09980743 0.90019256]]\n",
      "[[0.01251001 0.98749   ]]\n",
      "[[0.01251001 0.98749   ]]\n",
      "[[0.24592237 0.7540777 ]]\n",
      "[[0.04284982 0.9571502 ]]\n",
      "[[0.04284982 0.9571502 ]]\n",
      "[[0.01033092 0.989669  ]]\n",
      "[[0.02869549 0.9713045 ]]\n",
      "[[0.02869549 0.9713045 ]]\n",
      "[[0.09743103 0.902569  ]]\n",
      "[[0.5294232  0.47057676]]\n",
      "[[0.41773888 0.58226115]]\n",
      "[[0.01875988 0.9812401 ]]\n",
      "[[0.01875988 0.9812401 ]]\n",
      "[[0.05643996 0.94356   ]]\n",
      "[[0.03759804 0.9624019 ]]\n",
      "[[0.03759804 0.9624019 ]]\n",
      "[[0.03303567 0.9669643 ]]\n",
      "[[0.01867275 0.98132724]]\n",
      "[[0.01867275 0.98132724]]\n",
      "[[0.01307227 0.9869277 ]]\n",
      "[[0.05446512 0.9455349 ]]\n",
      "[[0.05253627 0.94746375]]\n",
      "[[0.15107247 0.84892756]]\n",
      "[[0.15107247 0.84892756]]\n",
      "[[0.06890602 0.93109393]]\n",
      "[[0.07890093 0.9210991 ]]\n",
      "[[0.02315561 0.9768444 ]]\n",
      "[[0.02315561 0.9768444 ]]\n",
      "[[0.03037834 0.96962166]]\n",
      "[[0.03037834 0.96962166]]\n",
      "[[0.04818114 0.9518189 ]]\n",
      "[[0.00144854 0.9985514 ]]\n",
      "[[0.00144854 0.9985514 ]]\n",
      "[[0.11749838 0.88250154]]\n",
      "[[0.03068458 0.96931547]]\n",
      "[[0.04445563 0.95554435]]\n",
      "[[0.10178484 0.8982151 ]]\n",
      "[[0.10178484 0.8982151 ]]\n",
      "[[0.06098185 0.9390182 ]]\n",
      "[[0.04067782 0.9593222 ]]\n",
      "[[0.04067782 0.9593222 ]]\n",
      "[[0.00327222 0.9967278 ]]\n",
      "[[0.58015764 0.4198424 ]]\n",
      "[[0.58015764 0.4198424 ]]\n",
      "[[0.13098525 0.86901474]]\n",
      "[[0.9298675  0.07013253]]\n",
      "[[0.9298675  0.07013253]]\n",
      "[[0.9225759  0.07742415]]\n",
      "[[0.8324549  0.16754508]]\n",
      "[[0.8324549  0.16754508]]\n",
      "[[0.81657505 0.18342493]]\n",
      "[[0.6144849  0.38551512]]\n",
      "[[0.6144849  0.38551512]]\n",
      "[[0.22315997 0.7768401 ]]\n",
      "[[0.02753074 0.9724692 ]]\n",
      "[[0.02753074 0.9724692 ]]\n",
      "[[0.0208425 0.9791575]]\n",
      "[[0.05812322 0.94187677]]\n",
      "[[0.05812322 0.94187677]]\n",
      "[[0.14880994 0.85119003]]\n",
      "[[0.16549627 0.8345037 ]]\n",
      "[[0.16549627 0.8345037 ]]\n",
      "[[0.003415 0.996585]]\n",
      "[[0.00492402 0.995076  ]]\n",
      "[[0.00492402 0.995076  ]]\n",
      "[[0.00862749 0.9913726 ]]\n",
      "[[0.00366174 0.99633825]]\n",
      "[[0.00366174 0.99633825]]\n",
      "[[0.01005519 0.9899448 ]]\n",
      "[[0.00234087 0.9976591 ]]\n",
      "[[0.01326992 0.9867301 ]]\n",
      "[[0.01326992 0.9867301 ]]\n",
      "[[0.00172005 0.9982799 ]]\n",
      "[[0.00455396 0.9954461 ]]\n",
      "[[0.00455396 0.9954461 ]]\n",
      "[[0.00272445 0.99727553]]\n",
      "[[0.00318 0.99682]]\n",
      "[[0.00318 0.99682]]\n",
      "[[0.00341311 0.9965869 ]]\n",
      "[[0.00627068 0.99372935]]\n",
      "[[0.00627068 0.99372935]]\n",
      "[[0.01767977 0.98232025]]\n",
      "[[0.2260217 0.7739783]]\n",
      "[[0.2260217 0.7739783]]\n",
      "[[0.025396   0.97460407]]\n",
      "[[0.0640365  0.93596345]]\n",
      "[[0.0640365  0.93596345]]\n",
      "[[0.2787725 0.7212275]]\n",
      "[[0.03651023 0.9634897 ]]\n",
      "[[0.03651023 0.9634897 ]]\n",
      "[[0.18236746 0.8176325 ]]\n",
      "[[0.0215229  0.97847706]]\n",
      "[[0.0215229  0.97847706]]\n",
      "[[0.0668522  0.93314785]]\n",
      "[[0.08790988 0.9120901 ]]\n",
      "[[0.08790988 0.9120901 ]]\n",
      "[[0.05576577 0.94423425]]\n",
      "[[0.00800258 0.9919974 ]]\n",
      "[[0.00800258 0.9919974 ]]\n",
      "[[0.15040044 0.84959954]]\n",
      "[[0.15040044 0.84959954]]\n",
      "[[0.01021136 0.9897886 ]]\n",
      "[[0.05394762 0.94605243]]\n",
      "[[0.05394762 0.94605243]]\n",
      "[[0.57251453 0.4274854 ]]\n",
      "[[0.84388316 0.15611683]]\n",
      "[[0.84388316 0.15611683]]\n",
      "[[0.63361394 0.36638606]]\n",
      "[[0.66854614 0.3314539 ]]\n",
      "[[0.66854614 0.3314539 ]]\n",
      "[[0.16519815 0.83480185]]\n",
      "[[0.17052396 0.829476  ]]\n",
      "[[0.57633144 0.42366856]]\n",
      "[[0.7631178  0.23688225]]\n",
      "[[0.7631178  0.23688225]]\n",
      "[[0.6409343 0.3590657]]\n",
      "[[0.6409343 0.3590657]]\n",
      "[[0.57220775 0.42779228]]\n",
      "[[0.57220775 0.42779228]]\n",
      "[[0.4174203 0.5825798]]\n",
      "[[0.4174203 0.5825798]]\n",
      "[[0.374631   0.62536895]]\n",
      "[[0.374631   0.62536895]]\n",
      "[[0.8981732  0.10182676]]\n",
      "[[0.8981732  0.10182676]]\n",
      "[[0.42115307 0.57884693]]\n",
      "[[0.41555908 0.58444095]]\n",
      "[[0.41555908 0.58444095]]\n",
      "[[0.71250534 0.28749472]]\n",
      "[[0.71250534 0.28749472]]\n",
      "[[0.14923865 0.85076135]]\n",
      "[[0.06205937 0.9379406 ]]\n",
      "[[0.06205937 0.9379406 ]]\n",
      "[[0.37796184 0.6220382 ]]\n",
      "[[0.13895023 0.8610498 ]]\n",
      "[[0.13895023 0.8610498 ]]\n",
      "[[0.34557423 0.6544257 ]]\n",
      "[[0.4036678  0.59633225]]\n",
      "[[0.4036678  0.59633225]]\n",
      "[[0.6474209  0.35257912]]\n",
      "[[0.6474209  0.35257912]]\n",
      "[[0.56873786 0.43126217]]\n",
      "[[0.51708126 0.4829188 ]]\n",
      "[[0.51708126 0.4829188 ]]\n",
      "[[0.8806157  0.11938422]]\n",
      "[[0.8849927  0.11500727]]\n",
      "[[0.826988   0.17301199]]\n",
      "[[0.65793693 0.34206304]]\n",
      "[[0.65793693 0.34206304]]\n",
      "[[0.6243778  0.37562224]]\n",
      "[[0.538605 0.461395]]\n",
      "[[0.538605 0.461395]]\n",
      "[[0.56487775 0.43512225]]\n",
      "[[0.63964725 0.3603528 ]]\n",
      "[[0.63964725 0.3603528 ]]\n",
      "[[0.5155875  0.48441252]]\n",
      "[[0.7941777  0.20582227]]\n",
      "[[0.7941777  0.20582227]]\n",
      "[[0.22043896 0.779561  ]]\n",
      "[[0.6250587  0.37494123]]\n",
      "[[0.6250587  0.37494123]]\n",
      "[[0.79438394 0.20561604]]\n",
      "[[0.82945514 0.1705449 ]]\n",
      "[[0.82945514 0.1705449 ]]\n",
      "[[0.91163725 0.08836279]]\n",
      "[[0.91163725 0.08836279]]\n",
      "[[0.93429947 0.06570051]]\n",
      "[[0.93429947 0.06570051]]\n",
      "[[0.93429947 0.06570051]]\n",
      "[[0.93429947 0.06570051]]\n",
      "[[0.60701627 0.39298376]]\n",
      "[[0.60701627 0.39298376]]\n",
      "[[0.48482895 0.515171  ]]\n",
      "[[0.9165881  0.08341185]]\n",
      "[[0.9165881  0.08341185]]\n",
      "[[0.7375558  0.26244417]]\n",
      "[[0.619981   0.38001898]]\n",
      "[[0.619981   0.38001898]]\n",
      "[[0.93429947 0.06570051]]\n",
      "[[0.8201069  0.17989305]]\n",
      "[[0.93429947 0.06570051]]\n",
      "[[0.93429947 0.06570051]]\n",
      "[[0.909578 0.090422]]\n",
      "[[0.909578 0.090422]]\n",
      "[[0.93429947 0.06570051]]\n",
      "[[0.93429947 0.06570051]]\n",
      "[[0.93429947 0.06570051]]\n"
     ]
    },
    {
     "ename": "NameError",
     "evalue": "name 'source' is not defined",
     "output_type": "error",
     "traceback": [
      "\u001b[1;31m---------------------------------------------------------------------------\u001b[0m",
      "\u001b[1;31mNameError\u001b[0m                                 Traceback (most recent call last)",
      "\u001b[1;32m<ipython-input-25-128e89ef2884>\u001b[0m in \u001b[0;36m<module>\u001b[1;34m\u001b[0m\n\u001b[0;32m     33\u001b[0m \u001b[0mvid_source\u001b[0m\u001b[1;33m.\u001b[0m\u001b[0mrelease\u001b[0m\u001b[1;33m(\u001b[0m\u001b[1;33m)\u001b[0m\u001b[1;33m\u001b[0m\u001b[1;33m\u001b[0m\u001b[0m\n\u001b[0;32m     34\u001b[0m \u001b[0mcv2\u001b[0m\u001b[1;33m.\u001b[0m\u001b[0mdestroyAllWindows\u001b[0m\u001b[1;33m(\u001b[0m\u001b[1;33m)\u001b[0m\u001b[1;33m\u001b[0m\u001b[1;33m\u001b[0m\u001b[0m\n\u001b[1;32m---> 35\u001b[1;33m \u001b[0msource\u001b[0m\u001b[1;33m.\u001b[0m\u001b[0mrelease\u001b[0m\u001b[1;33m(\u001b[0m\u001b[1;33m)\u001b[0m\u001b[1;33m\u001b[0m\u001b[1;33m\u001b[0m\u001b[0m\n\u001b[0m",
      "\u001b[1;31mNameError\u001b[0m: name 'source' is not defined"
     ]
    }
   ],
   "source": [
    "model = load_model('face_mask_detection6.h5')\n",
    "face_det_classifier = cv2.CascadeClassifier('haarcascade_frontalface_default.xml')\n",
    "vid_source = cv2.VideoCapture(0)\n",
    "text_dict = {0:'Mask On',1:'No Mask'}\n",
    "rect_color_dict = {0:(0,255,0),1:(0,0,255)}\n",
    "\n",
    "while True:\n",
    "    ret,img = vid_source.read()\n",
    "    grayscale_img = cv2.cvtColor(img,cv2.COLOR_BGR2GRAY)\n",
    "    faces = face_det_classifier.detectMultiScale(grayscale_img,1.3,5)\n",
    "    \n",
    "    for(x,y,w,h) in faces:\n",
    "        face_img = grayscale_img[y:y+w,x:x+w]\n",
    "        resized_img = cv2.resize(face_img,(112,112))\n",
    "        normalized_img = resized_img/255.0\n",
    "        reshaped_img = np.reshape(normalized_img,(1,112,112,1))\n",
    "        result = model.predict(reshaped_img)\n",
    "        label = np.argmax(result,axis=1)[0]\n",
    "        print(result)\n",
    "        cv2.rectangle(img,(x,y),(x+w,y+h),rect_color_dict[label],2)\n",
    "        cv2.rectangle(img,(x,y-40),(x+w,y),rect_color_dict[label],-1)\n",
    "        cv2.putText(img,text_dict[label],(x,y-10),cv2.FONT_HERSHEY_SIMPLEX,0.8,(0,0,0),2)\n",
    "        \n",
    "#         if label==0:\n",
    "#             print(\"mask\")\n",
    "#         else:\n",
    "#             print(\"noMask\")\n",
    "    cv2.imshow(\"Mask Detector\",img)\n",
    "    key = cv2.waitKey(1)\n",
    "    \n",
    "    if key==27:\n",
    "        break\n",
    "vid_source.release()\n",
    "cv2.destroyAllWindows()\n",
    "source.release()"
   ]
  },
  {
   "cell_type": "code",
   "execution_count": 15,
   "metadata": {},
   "outputs": [],
   "source": [
    "cv2.destroyAllWindows()\n"
   ]
  },
  {
   "cell_type": "code",
   "execution_count": 16,
   "metadata": {},
   "outputs": [],
   "source": [
    "vid_source.release()\n"
   ]
  },
  {
   "cell_type": "code",
   "execution_count": null,
   "metadata": {},
   "outputs": [],
   "source": []
  },
  {
   "cell_type": "markdown",
   "metadata": {},
   "source": [
    "# DETECTION ON STILL IMAGES"
   ]
  },
  {
   "cell_type": "code",
   "execution_count": 2,
   "metadata": {},
   "outputs": [
    {
     "name": "stdout",
     "output_type": "stream",
     "text": [
      "WARNING:tensorflow:From C:\\ProgramData\\Anaconda3\\lib\\site-packages\\tensorflow_core\\python\\ops\\init_ops.py:97: calling GlorotUniform.__init__ (from tensorflow.python.ops.init_ops) with dtype is deprecated and will be removed in a future version.\n",
      "Instructions for updating:\n",
      "Call initializer instance with the dtype argument instead of passing it to the constructor\n",
      "WARNING:tensorflow:From C:\\ProgramData\\Anaconda3\\lib\\site-packages\\tensorflow_core\\python\\ops\\init_ops.py:97: calling Zeros.__init__ (from tensorflow.python.ops.init_ops) with dtype is deprecated and will be removed in a future version.\n",
      "Instructions for updating:\n",
      "Call initializer instance with the dtype argument instead of passing it to the constructor\n",
      "WARNING:tensorflow:From C:\\ProgramData\\Anaconda3\\lib\\site-packages\\tensorflow_core\\python\\ops\\resource_variable_ops.py:1630: calling BaseResourceVariable.__init__ (from tensorflow.python.ops.resource_variable_ops) with constraint is deprecated and will be removed in a future version.\n",
      "Instructions for updating:\n",
      "If using Keras pass *_constraint arguments to layers.\n",
      "[[ 57  76 227 227]]\n",
      "[[0.5043889 0.4956111]]\n"
     ]
    }
   ],
   "source": [
    "from tensorflow.keras.models import load_model\n",
    "import cv2\n",
    "import numpy as np\n",
    "import smtplib\n",
    "\n",
    "model = load_model('face_mask_detection6.h5')\n",
    "face_det_classifier = cv2.CascadeClassifier('haarcascade_frontalface_default.xml')\n",
    "text_dict = {0:'Mask On',1:'No Mask'}\n",
    "rect_color_dict = {0:(0,255,0),1:(0,0,255)}\n",
    "\n",
    "img = cv2.imread('yes.jpg')\n",
    "grayscale_img = cv2.cvtColor(img,cv2.COLOR_BGR2GRAY)\n",
    "faces = face_det_classifier.detectMultiScale(grayscale_img,1.3,5)\n",
    "print(faces)\n",
    "for(x,y,w,h) in faces:\n",
    "    face_img = grayscale_img[y:y+w,x:x+w]\n",
    "    resized_img = cv2.resize(face_img,(112,112))\n",
    "    normalized_img = resized_img/255.0\n",
    "    reshaped_img = np.reshape(normalized_img,(1,112,112,1))\n",
    "    result = model.predict(reshaped_img)\n",
    "    print(result)\n",
    "    label = np.argmax(result,axis=1)[0]\n",
    "    cv2.rectangle(img,(x,y),(x+w,y+h),rect_color_dict[label],2)\n",
    "    cv2.rectangle(img,(x,y-40),(x+w,y),rect_color_dict[label],-1)\n",
    "    cv2.putText(img,text_dict[label],(x,y-10),cv2.FONT_HERSHEY_SIMPLEX,0.8,(0,0,0),2)\n",
    "        \n",
    "#         if label==0:\n",
    "#             print(\"mask\")\n",
    "#         else:\n",
    "#             print(\"noMask\")\n",
    "    cv2.imshow(\"Mask Detector\",img)\n",
    "key = cv2.waitKey(5000)\n",
    "cv2.destroyAllWindows()"
   ]
  },
  {
   "cell_type": "code",
   "execution_count": null,
   "metadata": {},
   "outputs": [],
   "source": []
  }
 ],
 "metadata": {
  "kernelspec": {
   "display_name": "Python 3",
   "language": "python",
   "name": "python3"
  },
  "language_info": {
   "codemirror_mode": {
    "name": "ipython",
    "version": 3
   },
   "file_extension": ".py",
   "mimetype": "text/x-python",
   "name": "python",
   "nbconvert_exporter": "python",
   "pygments_lexer": "ipython3",
   "version": "3.7.3"
  }
 },
 "nbformat": 4,
 "nbformat_minor": 2
}
